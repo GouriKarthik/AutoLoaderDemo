{
 "cells": [
  {
   "cell_type": "code",
   "execution_count": 0,
   "metadata": {
    "application/vnd.databricks.v1+cell": {
     "cellMetadata": {
      "byteLimit": 2048000,
      "rowLimit": 10000
     },
     "inputWidgets": {},
     "nuid": "1a4c074f-b43b-4c6d-a482-22d7f869afa5",
     "showTitle": false,
     "title": ""
    }
   },
   "outputs": [],
   "source": [
    "landing_zone = \"dbfs:/FileStore/retail_data\"\n",
    "orders_data = landing_zone + \"/orders_data\"\n",
    "checkpoint_path = landing_zone + \"/orders_checkpoint\""
   ]
  },
  {
   "cell_type": "code",
   "execution_count": 0,
   "metadata": {
    "application/vnd.databricks.v1+cell": {
     "cellMetadata": {
      "byteLimit": 2048000,
      "rowLimit": 10000
     },
     "inputWidgets": {},
     "nuid": "5599a789-0cd0-49c8-bc55-8c42bf958c69",
     "showTitle": false,
     "title": ""
    }
   },
   "outputs": [],
   "source": [
    "dbutils.fs.rm(\"dbfs:/FileStore/retail_data/orders_checkpoint\",True)"
   ]
  },
  {
   "cell_type": "code",
   "execution_count": 0,
   "metadata": {
    "application/vnd.databricks.v1+cell": {
     "cellMetadata": {
      "byteLimit": 2048000,
      "rowLimit": 10000
     },
     "inputWidgets": {},
     "nuid": "67a095d7-78ba-486d-8177-cb5a6fd8d498",
     "showTitle": false,
     "title": ""
    }
   },
   "outputs": [],
   "source": [
    "from pyspark.sql.functions import input_file_name,current_timestamp"
   ]
  },
  {
   "cell_type": "code",
   "execution_count": 0,
   "metadata": {
    "application/vnd.databricks.v1+cell": {
     "cellMetadata": {
      "byteLimit": 2048000,
      "rowLimit": 10000
     },
     "inputWidgets": {},
     "nuid": "0a3a00ef-6adc-420b-97ad-4d5ac7aee414",
     "showTitle": false,
     "title": ""
    }
   },
   "outputs": [],
   "source": [
    "orders_df = spark.readStream \\\n",
    ".format(\"cloudFiles\") \\\n",
    ".option(\"cloudFiles.format\",\"csv\") \\\n",
    ".option(\"cloudFiles.inferColumnTypes\",\"true\") \\\n",
    ".option(\"cloudFiles.schemaLocation\", checkpoint_path) \\\n",
    ".option(\"header\",True) \\\n",
    ".load(orders_data) \\\n",
    ".withColumn(\"file_name\",input_file_name()) \\\n",
    ".withColumn(\"time_of_load\",current_timestamp())"
   ]
  },
  {
   "cell_type": "code",
   "execution_count": 0,
   "metadata": {
    "application/vnd.databricks.v1+cell": {
     "cellMetadata": {
      "byteLimit": 2048000,
      "rowLimit": 10000
     },
     "inputWidgets": {},
     "nuid": "09171f4e-55b7-415c-b35e-3ba4b59643fd",
     "showTitle": false,
     "title": ""
    }
   },
   "outputs": [],
   "source": [
    "orders_df.display()"
   ]
  },
  {
   "cell_type": "code",
   "execution_count": 0,
   "metadata": {
    "application/vnd.databricks.v1+cell": {
     "cellMetadata": {
      "byteLimit": 2048000,
      "rowLimit": 10000
     },
     "inputWidgets": {},
     "nuid": "e99f71d7-962b-4e69-a98d-0feebb1c2c18",
     "showTitle": false,
     "title": ""
    }
   },
   "outputs": [],
   "source": [
    "orders_streaming_query = orders_df.writeStream \\\n",
    ".format(\"delta\") \\\n",
    ".option(\"checkpointLocation\",checkpoint_path) \\\n",
    ".queryName(\"orders_streaming_query\") \\\n",
    ".outputMode(\"append\") \\\n",
    ".toTable(\"orderdeltanewOne\")"
   ]
  },
  {
   "cell_type": "code",
   "execution_count": 0,
   "metadata": {
    "application/vnd.databricks.v1+cell": {
     "cellMetadata": {
      "byteLimit": 2048000,
      "rowLimit": 10000
     },
     "inputWidgets": {},
     "nuid": "1d3f4f00-c000-4974-bfcf-831429380e14",
     "showTitle": false,
     "title": ""
    }
   },
   "outputs": [],
   "source": [
    "orders_streaming_query.stop()"
   ]
  },
  {
   "cell_type": "code",
   "execution_count": 0,
   "metadata": {
    "application/vnd.databricks.v1+cell": {
     "cellMetadata": {
      "byteLimit": 2048000,
      "implicitDf": true,
      "rowLimit": 10000
     },
     "inputWidgets": {},
     "nuid": "3af1a7a4-93a6-4722-b7cc-9a50a9c2a79e",
     "showTitle": false,
     "title": ""
    }
   },
   "outputs": [],
   "source": [
    "%sql\n",
    "describe orderdeltanewOne"
   ]
  }
 ],
 "metadata": {
  "application/vnd.databricks.v1+notebook": {
   "dashboards": [
    {
     "elements": [],
     "globalVars": {},
     "guid": "",
     "layoutOption": {
      "grid": true,
      "stack": true
     },
     "nuid": "d00031e4-fce3-42e3-a400-e711415326a4",
     "origId": 2313696253047269,
     "title": "Untitled",
     "version": "DashboardViewV1",
     "width": 1024
    }
   ],
   "environmentMetadata": null,
   "language": "python",
   "notebookMetadata": {
    "mostRecentlyExecutedCommandWithImplicitDF": {
     "commandId": 2313696253047222,
     "dataframes": [
      "_sqldf"
     ]
    },
    "pythonIndentUnit": 4
   },
   "notebookName": "Autoloader_extraCol_queryName",
   "widgets": {}
  }
 },
 "nbformat": 4,
 "nbformat_minor": 0
}
