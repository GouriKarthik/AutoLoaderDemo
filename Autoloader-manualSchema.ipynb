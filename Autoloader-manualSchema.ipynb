{
 "cells": [
  {
   "cell_type": "code",
   "execution_count": 0,
   "metadata": {
    "application/vnd.databricks.v1+cell": {
     "cellMetadata": {
      "byteLimit": 2048000,
      "rowLimit": 10000
     },
     "inputWidgets": {},
     "nuid": "1a4c074f-b43b-4c6d-a482-22d7f869afa5",
     "showTitle": false,
     "title": ""
    }
   },
   "outputs": [],
   "source": [
    "landing_zone = \"dbfs:/FileStore/retail_data\"\n",
    "orders_data = landing_zone + \"/orders_data\"\n",
    "checkpoint_path = landing_zone + \"/orders_checkpoint\""
   ]
  },
  {
   "cell_type": "code",
   "execution_count": 0,
   "metadata": {
    "application/vnd.databricks.v1+cell": {
     "cellMetadata": {
      "byteLimit": 2048000,
      "rowLimit": 10000
     },
     "inputWidgets": {},
     "nuid": "5599a789-0cd0-49c8-bc55-8c42bf958c69",
     "showTitle": false,
     "title": ""
    }
   },
   "outputs": [],
   "source": [
    "dbutils.fs.rm(\"dbfs:/FileStore/retail_data/orders_checkpoint\",True)"
   ]
  },
  {
   "cell_type": "code",
   "execution_count": 0,
   "metadata": {
    "application/vnd.databricks.v1+cell": {
     "cellMetadata": {
      "byteLimit": 2048000,
      "rowLimit": 10000
     },
     "inputWidgets": {},
     "nuid": "75a7f3b9-2e81-4de8-a35f-b3ec32f020a0",
     "showTitle": false,
     "title": ""
    }
   },
   "outputs": [],
   "source": [
    "from pyspark.sql.types import StructType, StructField, IntegerType, TimestampType, StringType\n",
    "\n",
    "orders_schema = StructType([StructField(\"orderId\", IntegerType()), StructField(\"orderDate\", TimestampType()),StructField(\"customerId\", IntegerType()),StructField(\"orderStatus\", StringType())])"
   ]
  },
  {
   "cell_type": "code",
   "execution_count": 0,
   "metadata": {
    "application/vnd.databricks.v1+cell": {
     "cellMetadata": {
      "byteLimit": 2048000,
      "rowLimit": 10000
     },
     "inputWidgets": {},
     "nuid": "0a3a00ef-6adc-420b-97ad-4d5ac7aee414",
     "showTitle": false,
     "title": ""
    }
   },
   "outputs": [],
   "source": [
    "orders_df = spark.readStream \\\n",
    ".format(\"cloudFiles\") \\\n",
    ".option(\"cloudFiles.format\",\"csv\") \\\n",
    ".schema(orders_schema) \\\n",
    ".option(\"cloudFiles.inferColumnTypes\",\"true\") \\\n",
    ".option(\"cloudFiles.schemaLocation\", checkpoint_path) \\\n",
    ".option(\"header\",True) \\\n",
    ".load(orders_data)"
   ]
  },
  {
   "cell_type": "code",
   "execution_count": 0,
   "metadata": {
    "application/vnd.databricks.v1+cell": {
     "cellMetadata": {
      "byteLimit": 2048000,
      "rowLimit": 10000
     },
     "inputWidgets": {},
     "nuid": "09171f4e-55b7-415c-b35e-3ba4b59643fd",
     "showTitle": false,
     "title": ""
    }
   },
   "outputs": [],
   "source": [
    "orders_df.display()"
   ]
  }
 ],
 "metadata": {
  "application/vnd.databricks.v1+notebook": {
   "dashboards": [],
   "environmentMetadata": null,
   "language": "python",
   "notebookMetadata": {
    "pythonIndentUnit": 4
   },
   "notebookName": "Autoloader-manualSchema",
   "widgets": {}
  }
 },
 "nbformat": 4,
 "nbformat_minor": 0
}
