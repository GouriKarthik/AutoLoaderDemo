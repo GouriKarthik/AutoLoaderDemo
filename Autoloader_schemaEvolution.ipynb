{
 "cells": [
  {
   "cell_type": "code",
   "execution_count": 0,
   "metadata": {
    "application/vnd.databricks.v1+cell": {
     "cellMetadata": {},
     "inputWidgets": {},
     "nuid": "1b35e5c0-4ed7-4207-85ea-b280d2285668",
     "showTitle": false,
     "title": ""
    }
   },
   "outputs": [],
   "source": [
    "landing_zone = \"dbfs:/FileStore/retail_data\"\n",
    "orders_data = landing_zone + \"/orders_data\"\n",
    "checkpoint_path = landing_zone + \"/orders_checkpoint\""
   ]
  },
  {
   "cell_type": "code",
   "execution_count": 0,
   "metadata": {
    "application/vnd.databricks.v1+cell": {
     "cellMetadata": {},
     "inputWidgets": {},
     "nuid": "56c1273d-63af-44bd-8614-1e73d35a273c",
     "showTitle": false,
     "title": ""
    }
   },
   "outputs": [],
   "source": [
    "dbutils.fs.rm(\"dbfs:/FileStore/retail_data/orders_checkpoint\", True)"
   ]
  },
  {
   "cell_type": "code",
   "execution_count": 0,
   "metadata": {
    "application/vnd.databricks.v1+cell": {
     "cellMetadata": {},
     "inputWidgets": {},
     "nuid": "184b62b8-5b2e-4099-b6d0-4040993b04b9",
     "showTitle": false,
     "title": ""
    }
   },
   "outputs": [],
   "source": [
    "from pyspark.sql.functions import input_file_name, current_timestamp"
   ]
  },
  {
   "cell_type": "code",
   "execution_count": 0,
   "metadata": {
    "application/vnd.databricks.v1+cell": {
     "cellMetadata": {},
     "inputWidgets": {},
     "nuid": "51774022-4fde-40a5-bae4-3ba4075f3b0c",
     "showTitle": false,
     "title": ""
    }
   },
   "outputs": [],
   "source": [
    "order_df = spark.readStream \\\n",
    ".format(\"cloudFiles\") \\\n",
    ".option(\"cloudFiles.format\",\"csv\") \\\n",
    ".option(\"cloudFiles.inferColumnTypes\",\"true\") \\\n",
    ".option(\"cloudFiles.schemaLocation\", checkpoint_path) \\\n",
    ".option(\"header\", True) \\\n",
    ".option(\"cloudFiles.schemaEvolutionMode\",\"addNewColumns\") \\\n",
    ".load(orders_data) \\\n",
    ".withColumn(\"file_name\",input_file_name()) \\\n",
    ".withColumn(\"time_of_load\",current_timestamp())"
   ]
  },
  {
   "cell_type": "code",
   "execution_count": 0,
   "metadata": {
    "application/vnd.databricks.v1+cell": {
     "cellMetadata": {},
     "inputWidgets": {},
     "nuid": "03f2a448-9421-4747-b2f0-e73d307443a8",
     "showTitle": false,
     "title": ""
    }
   },
   "outputs": [],
   "source": [
    "order_df.display()"
   ]
  }
 ],
 "metadata": {
  "application/vnd.databricks.v1+notebook": {
   "dashboards": [],
   "environmentMetadata": null,
   "language": "python",
   "notebookMetadata": {
    "pythonIndentUnit": 4
   },
   "notebookName": "Autoloader_schemaEvolution",
   "widgets": {}
  }
 },
 "nbformat": 4,
 "nbformat_minor": 0
}
